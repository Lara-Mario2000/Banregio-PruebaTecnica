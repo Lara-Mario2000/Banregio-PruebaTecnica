{
  "cells": [
    {
      "cell_type": "code",
      "execution_count": 1,
      "id": "9c731035-02d6-475a-9eb7-4ca25d18f709",
      "metadata": {
        "colab": {
          "base_uri": "https://localhost:8080/"
        },
        "id": "9c731035-02d6-475a-9eb7-4ca25d18f709",
        "outputId": "91fa750c-723a-4676-f4e2-1e87d9140b88"
      },
      "outputs": [
        {
          "name": "stdout",
          "output_type": "stream",
          "text": [
            "Requirement already satisfied: matplotlib in /usr/local/lib/python3.10/dist-packages (3.7.1)\n",
            "Requirement already satisfied: contourpy>=1.0.1 in /usr/local/lib/python3.10/dist-packages (from matplotlib) (1.1.0)\n",
            "Requirement already satisfied: cycler>=0.10 in /usr/local/lib/python3.10/dist-packages (from matplotlib) (0.11.0)\n",
            "Requirement already satisfied: fonttools>=4.22.0 in /usr/local/lib/python3.10/dist-packages (from matplotlib) (4.42.1)\n",
            "Requirement already satisfied: kiwisolver>=1.0.1 in /usr/local/lib/python3.10/dist-packages (from matplotlib) (1.4.5)\n",
            "Requirement already satisfied: numpy>=1.20 in /usr/local/lib/python3.10/dist-packages (from matplotlib) (1.23.5)\n",
            "Requirement already satisfied: packaging>=20.0 in /usr/local/lib/python3.10/dist-packages (from matplotlib) (23.1)\n",
            "Requirement already satisfied: pillow>=6.2.0 in /usr/local/lib/python3.10/dist-packages (from matplotlib) (9.4.0)\n",
            "Requirement already satisfied: pyparsing>=2.3.1 in /usr/local/lib/python3.10/dist-packages (from matplotlib) (3.1.1)\n",
            "Requirement already satisfied: python-dateutil>=2.7 in /usr/local/lib/python3.10/dist-packages (from matplotlib) (2.8.2)\n",
            "Requirement already satisfied: six>=1.5 in /usr/local/lib/python3.10/dist-packages (from python-dateutil>=2.7->matplotlib) (1.16.0)\n",
            "Requirement already satisfied: pandas in /usr/local/lib/python3.10/dist-packages (1.5.3)\n",
            "Requirement already satisfied: python-dateutil>=2.8.1 in /usr/local/lib/python3.10/dist-packages (from pandas) (2.8.2)\n",
            "Requirement already satisfied: pytz>=2020.1 in /usr/local/lib/python3.10/dist-packages (from pandas) (2023.3.post1)\n",
            "Requirement already satisfied: numpy>=1.21.0 in /usr/local/lib/python3.10/dist-packages (from pandas) (1.23.5)\n",
            "Requirement already satisfied: six>=1.5 in /usr/local/lib/python3.10/dist-packages (from python-dateutil>=2.8.1->pandas) (1.16.0)\n",
            "ERROR: unknown command \"numpy\"\n"
          ]
        }
      ],
      "source": [
        "!pip install matplotlib\n",
        "!pip install pandas\n",
        "!pip numpy"
      ]
    },
    {
      "cell_type": "code",
      "execution_count": 2,
      "id": "c3f8256c-51fd-4c55-a088-7007814070b0",
      "metadata": {
        "id": "c3f8256c-51fd-4c55-a088-7007814070b0"
      },
      "outputs": [],
      "source": [
        "import pandas as pd\n",
        "from matplotlib import pyplot as plt\n",
        "import numpy as np"
      ]
    },
    {
      "cell_type": "code",
      "execution_count": 3,
      "id": "0551721c-f685-4a48-93cb-acfc40fefc1d",
      "metadata": {
        "colab": {
          "base_uri": "https://localhost:8080/"
        },
        "id": "0551721c-f685-4a48-93cb-acfc40fefc1d",
        "outputId": "1ef785b7-9f48-4782-cef3-4083d6011051"
      },
      "outputs": [
        {
          "name": "stdout",
          "output_type": "stream",
          "text": [
            "         Name  StudyHours  Grade\n",
            "0         Dan       10.00   50.0\n",
            "1       Joann       11.50   50.0\n",
            "2       Pedro        9.00   47.0\n",
            "3       Rosie       16.00   97.0\n",
            "4       Ethan        9.25   49.0\n",
            "5       Vicky        1.00    3.0\n",
            "6    Frederic       11.50   53.0\n",
            "7      Jimmie        9.00   42.0\n",
            "8      Rhonda        8.50   26.0\n",
            "9    Giovanni       14.50   74.0\n",
            "10  Francesca       15.50   82.0\n",
            "11      Rajab       13.75   62.0\n",
            "12    Naiyana        9.00   37.0\n",
            "13       Kian        8.00   15.0\n",
            "14      Jenny       15.50   70.0\n",
            "15     Jakeem        8.00   27.0\n",
            "16     Helena        9.00   36.0\n",
            "17      Ismat        6.00   35.0\n",
            "18      Anila       10.00   48.0\n",
            "19       Skye       12.00   52.0\n",
            "20     Daniel       12.50   63.0\n",
            "21      Aisha       12.00   64.0\n",
            "22       Bill        8.00    NaN\n",
            "23        Ted         NaN    NaN\n"
          ]
        }
      ],
      "source": [
        "# Cargue los datos desde la url dada en un dataframe llamado df_students e imprima una muestra de 5 registros\n",
        "url = 'https://raw.githubusercontent.com/MicrosoftDocs/mslearn-introduction-to-machine-learning/main/Data/ml-basics/grades.csv'\n",
        "'''\n",
        "hint: use pandas\n",
        "delimitador: \",\"\n",
        "encabezado: 'infer'\n",
        "'''\n",
        "\n",
        "df_students = pd.read_csv(url)\n",
        "print(df_students)"
      ]
    },
    {
      "cell_type": "code",
      "execution_count": 4,
      "id": "d0dcf1c2-a7a8-40b5-a42a-0097acca2433",
      "metadata": {
        "colab": {
          "base_uri": "https://localhost:8080/"
        },
        "id": "d0dcf1c2-a7a8-40b5-a42a-0097acca2433",
        "outputId": "288a0d2c-da42-4e59-8720-f076551663db"
      },
      "outputs": [
        {
          "name": "stdout",
          "output_type": "stream",
          "text": [
            "Name          0\n",
            "StudyHours    1\n",
            "Grade         2\n",
            "dtype: int64\n",
            "Name          0\n",
            "StudyHours    0\n",
            "Grade         0\n",
            "dtype: int64\n"
          ]
        }
      ],
      "source": [
        "# Remueva cualquier fila con datos faltantes\n",
        "print(df_students.isnull().sum())\n",
        "\n",
        "df_students = df_students.dropna()\n",
        "print(df_students.isnull().sum())"
      ]
    },
    {
      "cell_type": "code",
      "execution_count": 5,
      "id": "a4b39329",
      "metadata": {
        "colab": {
          "base_uri": "https://localhost:8080/"
        },
        "id": "a4b39329",
        "outputId": "55270db8-ec45-49e6-beb4-7bf9cf5e2881"
      },
      "outputs": [
        {
          "name": "stdout",
          "output_type": "stream",
          "text": [
            "         Name  StudyHours  MeanStudyHours\n",
            "0       Aisha       12.00       10.522727\n",
            "1       Anila       10.00       10.522727\n",
            "2         Dan       10.00       10.522727\n",
            "3      Daniel       12.50       10.522727\n",
            "4       Ethan        9.25       10.522727\n",
            "5   Francesca       15.50       10.522727\n",
            "6    Frederic       11.50       10.522727\n",
            "7    Giovanni       14.50       10.522727\n",
            "8      Helena        9.00       10.522727\n",
            "9       Ismat        6.00       10.522727\n",
            "10     Jakeem        8.00       10.522727\n",
            "11      Jenny       15.50       10.522727\n",
            "12     Jimmie        9.00       10.522727\n",
            "13      Joann       11.50       10.522727\n",
            "14       Kian        8.00       10.522727\n",
            "15    Naiyana        9.00       10.522727\n",
            "16      Pedro        9.00       10.522727\n",
            "17      Rajab       13.75       10.522727\n",
            "18     Rhonda        8.50       10.522727\n",
            "19      Rosie       16.00       10.522727\n",
            "20       Skye       12.00       10.522727\n",
            "21      Vicky        1.00       10.522727\n"
          ]
        }
      ],
      "source": [
        "# Muestre en un nuevo dataframe el promedio total y promedio de horas de estudio por estudiante\n",
        "'''\n",
        "hint: use groupby\n",
        "'''\n",
        "promedio_alumnos = df_students.groupby('Name')['StudyHours'].mean().reset_index()\n",
        "promedio_alumnos['MeanStudyHours'] = df_students['StudyHours'].mean()\n",
        "print(promedio_alumnos)"
      ]
    },
    {
      "cell_type": "code",
      "execution_count": 6,
      "id": "868bb208-b1bb-4595-8da4-adfe8670e944",
      "metadata": {
        "colab": {
          "base_uri": "https://localhost:8080/"
        },
        "id": "868bb208-b1bb-4595-8da4-adfe8670e944",
        "outputId": "c8f1a195-a4e7-4f45-ff82-d5c7af662af0"
      },
      "outputs": [
        {
          "name": "stdout",
          "output_type": "stream",
          "text": [
            "         Name  StudyHours  Grade  Approval\n",
            "0         Dan       10.00   50.0     False\n",
            "1       Joann       11.50   50.0     False\n",
            "2       Pedro        9.00   47.0     False\n",
            "3       Rosie       16.00   97.0      True\n",
            "4       Ethan        9.25   49.0     False\n",
            "5       Vicky        1.00    3.0     False\n",
            "6    Frederic       11.50   53.0     False\n",
            "7      Jimmie        9.00   42.0     False\n",
            "8      Rhonda        8.50   26.0     False\n",
            "9    Giovanni       14.50   74.0      True\n",
            "10  Francesca       15.50   82.0      True\n",
            "11      Rajab       13.75   62.0     False\n",
            "12    Naiyana        9.00   37.0     False\n",
            "13       Kian        8.00   15.0     False\n",
            "14      Jenny       15.50   70.0      True\n",
            "15     Jakeem        8.00   27.0     False\n",
            "16     Helena        9.00   36.0     False\n",
            "17      Ismat        6.00   35.0     False\n",
            "18      Anila       10.00   48.0     False\n",
            "19       Skye       12.00   52.0     False\n",
            "20     Daniel       12.50   63.0     False\n",
            "21      Aisha       12.00   64.0     False\n"
          ]
        }
      ],
      "source": [
        "# Asigne el pase o no a los estudiantes (pase >= 70) e imprima el resultado\n",
        "\n",
        "alumnos_pase = df_students\n",
        "alumnos_pase['Approval'] = np.where(alumnos_pase['Grade'] >= 70, True, False)\n",
        "print(alumnos_pase)"
      ]
    },
    {
      "cell_type": "code",
      "execution_count": 22,
      "id": "0c2e320c",
      "metadata": {
        "colab": {
          "base_uri": "https://localhost:8080/"
        },
        "id": "0c2e320c",
        "outputId": "69e4f731-0c47-4ac3-d22c-16706fd513e3"
      },
      "outputs": [
        {
          "name": "stdout",
          "output_type": "stream",
          "text": [
            "[3.0, 97.0, 49.18181818181818, 49.5, 50]\n"
          ]
        }
      ],
      "source": [
        "# Defina una funcion que calcule el mínimo, máximo, promedio, mediana y moda dada una serie de datos. Pruebe con la serie \"Grade\"\n",
        "# del objeto df_students.\n",
        "\n",
        "'''\n",
        "Hint:\n",
        "def funcion(data):\n",
        "    ...\n",
        "    return [minimo, maximo, mean, mediana, moda]\n",
        "\n",
        "estadisticas = funcion(data)\n",
        "print(estadisticas)\n",
        "'''\n",
        "\n",
        "def funcion(data):\n",
        "    minimo = min(data)\n",
        "    maximo = max(data)\n",
        "    mean = np.mean(data)\n",
        "    mediana = np.median(data)\n",
        "    vals, counts = np.unique(data,return_counts = True)\n",
        "    mode = int(vals[counts == np.max(counts)])\n",
        "\n",
        "    return [minimo, maximo, mean, mediana, mode]\n",
        "\n",
        "statistics = funcion(df_students['Grade'])\n",
        "print(statistics)"
      ]
    },
    {
      "cell_type": "code",
      "execution_count": 19,
      "id": "0772af9c",
      "metadata": {
        "colab": {
          "base_uri": "https://localhost:8080/",
          "height": 497
        },
        "id": "0772af9c",
        "outputId": "21c6a055-5c77-4c5b-a615-6b792292fba9"
      },
      "outputs": [
        {
          "data": {
            "image/png": "[encoded data removed]",
            "text/plain": [
              "<Figure size 640x480 with 1 Axes>"
            ]
          },
          "metadata": {},
          "output_type": "display_data"
        }
      ],
      "source": [
        "# Defina una funcion que genere un gráfico, un histograma dada una serie de datos, adicional que añada lineas en color\n",
        "# para las diferentes estadisticas obtenidas en el paso anterior. Use la serie \"Grade\" del objeto df_students\n",
        "\n",
        "'''\n",
        "Hint:\n",
        "def histograma(data):\n",
        "\n",
        "    *use .hist para histograma y .axvline para lineas\n",
        "    *colores: minimo y maximo: 'gray', mean:'cyan', mediana:'red', moda:'yellow'\n",
        "\n",
        "    plt.hist(...)\n",
        "    plt.axvline(...)\n",
        "        ...\n",
        "\n",
        "    plt.ylabel('Frequencia')\n",
        "    plt.xlabel('Valor')\n",
        "    plt.suptitle('Distribución')\n",
        "    plt.show()\n",
        "\n",
        "histograma(data)\n",
        "'''\n",
        "\n",
        "def histograma(data):\n",
        "\n",
        "    values = funcion(data)\n",
        "\n",
        "    plt.hist(data)\n",
        "    plt.axvline(values[0], color='gray')\n",
        "    plt.axvline(values[1], color='gray')\n",
        "    plt.axvline(values[2], color='cyan')\n",
        "    plt.axvline(values[3], color='red')\n",
        "    plt.axvline(values[4], color='yellow')\n",
        "\n",
        "    plt.ylabel('Frequencia')\n",
        "    plt.xlabel('Valor')\n",
        "    plt.suptitle('Distribución')\n",
        "    plt.show()\n",
        "\n",
        "histograma(df_students['Grade'])"
      ]
    },
    {
      "cell_type": "code",
      "execution_count": 20,
      "id": "521aed02",
      "metadata": {
        "colab": {
          "base_uri": "https://localhost:8080/",
          "height": 452
        },
        "id": "521aed02",
        "outputId": "75447109-e8db-4972-bf23-85c9816764a1"
      },
      "outputs": [
        {
          "data": {
            "image/png": "[encoded data removed]",
            "text/plain": [
              "<Figure size 640x480 with 1 Axes>"
            ]
          },
          "metadata": {},
          "output_type": "display_data"
        }
      ],
      "source": [
        "# Defina una funcion que generé un gráfico tipo caja(boxplot) usando la serie 'Grade' y de su interpretación\n",
        "\n",
        "def boxplot(data):\n",
        "\n",
        "    plt.boxplot(data, patch_artist=True, boxprops=dict(facecolor='lightgreen'))\n",
        "    plt.title('Distribución')\n",
        "\n",
        "    plt.show()\n",
        "\n",
        "boxplot(df_students['Grade'])"
      ]
    },
    {
      "cell_type": "code",
      "execution_count": 21,
      "id": "9ea7e77f",
      "metadata": {
        "colab": {
          "base_uri": "https://localhost:8080/",
          "height": 493
        },
        "id": "9ea7e77f",
        "outputId": "7860969b-c2ee-4a0d-b0ca-1ea8b177e7b9"
      },
      "outputs": [
        {
          "data": {
            "image/png": "[encoded data removed]",
            "text/plain": [
              "<Figure size 640x480 with 1 Axes>"
            ]
          },
          "metadata": {},
          "output_type": "display_data"
        }
      ],
      "source": [
        "# Calcule la correlación entre \"studyhours\" y \"grade\". De su interpretación del resultado, si es positiva o negativa.\n",
        "def get_correlation(data1, data2):\n",
        "    correlacion = data1.corr(data2)\n",
        "\n",
        "    plt.scatter(data1, data2, alpha=0.7)\n",
        "\n",
        "    plt.title(f'Gráfico de Dispersión de StudyHours vs. Grade\\nCorrelación: {correlacion:.2f}')\n",
        "    plt.xlabel('StudyHours')\n",
        "    plt.ylabel('Grade')\n",
        "\n",
        "    plt.show()\n",
        "\n",
        "get_correlation(df_students['StudyHours'], df_students['Grade'])"
      ]
    }
  ],
  "metadata": {
    "colab": {
      "provenance": []
    },
    "kernelspec": {
      "display_name": "Python 3 (ipykernel)",
      "language": "python",
      "name": "python3"
    },
    "language_info": {
      "codemirror_mode": {
        "name": "ipython",
        "version": 3
      },
      "file_extension": ".py",
      "mimetype": "text/x-python",
      "name": "python",
      "nbconvert_exporter": "python",
      "pygments_lexer": "ipython3",
      "version": "3.10.2"
    }
  },
  "nbformat": 4,
  "nbformat_minor": 5
}
